{
 "cells": [
  {
   "cell_type": "code",
   "execution_count": 23,
   "metadata": {
    "ExecuteTime": {
     "end_time": "2018-05-15T12:23:48.321344Z",
     "start_time": "2018-05-15T12:23:48.278450Z"
    }
   },
   "outputs": [
    {
     "name": "stdout",
     "output_type": "stream",
     "text": [
      "Tensor(\"Const_64:0\", shape=(2, 3, 1), dtype=float32)\n",
      "Tensor(\"Sum_17:0\", shape=(3, 1), dtype=float32)\n",
      "[[ 1.20000005]\n",
      " [ 0.90000004]\n",
      " [ 0.60000002]]\n",
      "[[ 0.        ]\n",
      " [ 2.70002699]\n",
      " [ 1.80001807]]\n"
     ]
    }
   ],
   "source": [
    "import tensorflow as tf \n",
    "\n",
    "x=tf.constant([[1.0,2.0,3.0],[1.0,2.0,3.0],[1.0,2.0,3.0]])  \n",
    "y=tf.constant([[0,0,1.0],[0,0,1.0],[0,0,1.0]])\n",
    "y1= tf.constant([[[0.8], [0.6], [0.4]], [[0.4], [0.3], [0.2]]])\n",
    "\n",
    "z=tf.multiply(x,y1)\n",
    "\n",
    "# with tf.Session() as sess:\n",
    "#     ret = sess.run(z)\n",
    "#     print(ret)\n",
    "\n",
    "print(y1)\n",
    "\n",
    "z = tf.reduce_sum(y1, 0)\n",
    "z1 = tf.nn.dropout(z, 0.33333)\n",
    "\n",
    "print(z)\n",
    "with tf.Session() as sess:\n",
    "    ret = sess.run(z)\n",
    "    print(ret)\n",
    "    ret1 = sess.run(z1)\n",
    "    print(ret1)"
   ]
  },
  {
   "cell_type": "code",
   "execution_count": null,
   "metadata": {},
   "outputs": [],
   "source": []
  }
 ],
 "metadata": {
  "kernelspec": {
   "display_name": "Python 3",
   "language": "python",
   "name": "python3"
  },
  "language_info": {
   "codemirror_mode": {
    "name": "ipython",
    "version": 3
   },
   "file_extension": ".py",
   "mimetype": "text/x-python",
   "name": "python",
   "nbconvert_exporter": "python",
   "pygments_lexer": "ipython3",
   "version": "3.6.4"
  },
  "varInspector": {
   "cols": {
    "lenName": 16,
    "lenType": 16,
    "lenVar": 40
   },
   "kernels_config": {
    "python": {
     "delete_cmd_postfix": "",
     "delete_cmd_prefix": "del ",
     "library": "var_list.py",
     "varRefreshCmd": "print(var_dic_list())"
    },
    "r": {
     "delete_cmd_postfix": ") ",
     "delete_cmd_prefix": "rm(",
     "library": "var_list.r",
     "varRefreshCmd": "cat(var_dic_list()) "
    }
   },
   "types_to_exclude": [
    "module",
    "function",
    "builtin_function_or_method",
    "instance",
    "_Feature"
   ],
   "window_display": false
  }
 },
 "nbformat": 4,
 "nbformat_minor": 2
}
